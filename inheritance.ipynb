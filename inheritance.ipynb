{
 "cells": [
  {
   "cell_type": "markdown",
   "metadata": {},
   "source": [
    "Наследование и перегрузка методов"
   ]
  },
  {
   "cell_type": "code",
   "execution_count": 7,
   "metadata": {},
   "outputs": [],
   "source": [
    "class Base:\n",
    "    def __init__(self, health) -> None:\n",
    "        self.health = health\n",
    "    \n",
    "    def go_to(self):\n",
    "        print('go_to')\n",
    "    \n",
    "    def get_damaged(self):\n",
    "        self.health -= 10\n",
    "        print(\"health: \", self.health)\n",
    "    \n",
    "    def restore_health(self):\n",
    "        self.health += 10\n",
    "        print(\"health: \", self.health)\n",
    "    \n",
    "\n",
    "class Wizard(Base): # Волшебник\n",
    "    def __init__(self, health=100) -> None:\n",
    "        super().__init__(health)\n",
    "    \n",
    "    def get_damaged(self):\n",
    "        self.health -= 30\n",
    "        print(\"health: \", self.health)\n",
    "    \n",
    "    def restore_health(self):\n",
    "        self.health += 50\n",
    "        print(\"health: \", self.health)\n",
    "\n",
    "class Paladin(Base): # Паладин\n",
    "    def __init__(self, health=200) -> None:\n",
    "        super().__init__(health)\n",
    "    \n",
    "    def get_damaged(self):\n",
    "        self.health -= 5\n",
    "        print(\"health: \", self.health)\n",
    "    \n",
    "    def restore_health(self):\n",
    "        self.health += 10\n",
    "        print(\"health: \", self.health)"
   ]
  },
  {
   "cell_type": "code",
   "execution_count": 13,
   "metadata": {},
   "outputs": [],
   "source": [
    "a = Wizard(200)\n",
    "b = Paladin(500)"
   ]
  },
  {
   "cell_type": "code",
   "execution_count": 14,
   "metadata": {},
   "outputs": [
    {
     "name": "stdout",
     "output_type": "stream",
     "text": [
      "go_to\n"
     ]
    }
   ],
   "source": [
    "a.go_to()"
   ]
  },
  {
   "cell_type": "code",
   "execution_count": 15,
   "metadata": {},
   "outputs": [
    {
     "name": "stdout",
     "output_type": "stream",
     "text": [
      "health:  170\n"
     ]
    }
   ],
   "source": [
    "a.get_damaged()"
   ]
  },
  {
   "cell_type": "code",
   "execution_count": 16,
   "metadata": {},
   "outputs": [
    {
     "name": "stdout",
     "output_type": "stream",
     "text": [
      "health:  140\n"
     ]
    }
   ],
   "source": [
    "a.get_damaged()"
   ]
  },
  {
   "cell_type": "code",
   "execution_count": 17,
   "metadata": {},
   "outputs": [
    {
     "name": "stdout",
     "output_type": "stream",
     "text": [
      "health:  190\n"
     ]
    }
   ],
   "source": [
    "a.restore_health()"
   ]
  },
  {
   "cell_type": "code",
   "execution_count": 18,
   "metadata": {},
   "outputs": [
    {
     "name": "stdout",
     "output_type": "stream",
     "text": [
      "go_to\n"
     ]
    }
   ],
   "source": [
    "b.go_to()"
   ]
  },
  {
   "cell_type": "code",
   "execution_count": 19,
   "metadata": {},
   "outputs": [
    {
     "name": "stdout",
     "output_type": "stream",
     "text": [
      "health:  495\n"
     ]
    }
   ],
   "source": [
    "b.get_damaged()"
   ]
  },
  {
   "cell_type": "code",
   "execution_count": 20,
   "metadata": {},
   "outputs": [
    {
     "name": "stdout",
     "output_type": "stream",
     "text": [
      "health:  490\n"
     ]
    }
   ],
   "source": [
    "b.get_damaged()"
   ]
  },
  {
   "cell_type": "code",
   "execution_count": 21,
   "metadata": {},
   "outputs": [
    {
     "name": "stdout",
     "output_type": "stream",
     "text": [
      "health:  500\n"
     ]
    }
   ],
   "source": [
    "b.restore_health()"
   ]
  },
  {
   "cell_type": "code",
   "execution_count": 46,
   "metadata": {},
   "outputs": [
    {
     "data": {
      "text/plain": [
       "1"
      ]
     },
     "execution_count": 46,
     "metadata": {},
     "output_type": "execute_result"
    }
   ],
   "source": [
    "d = {'A': 1, 'B': 2, 'C': 3}\n",
    "\n",
    "d['A']"
   ]
  },
  {
   "cell_type": "code",
   "execution_count": 47,
   "metadata": {},
   "outputs": [],
   "source": [
    "class Solution:\n",
    "    def romanToInt(self, s: str) -> int:\n",
    "        d = {\n",
    "            'I': 1,\n",
    "            'V': 5,\n",
    "            'X': 10,\n",
    "            'L': 50,\n",
    "            'C': 100,\n",
    "            'D': 500,\n",
    "            'M': 1000,\n",
    "        }\n",
    "        self.sum = 0\n",
    "        for i in s:\n",
    "            self.sum += d[i]\n",
    "        return self.sum"
   ]
  },
  {
   "cell_type": "code",
   "execution_count": 48,
   "metadata": {},
   "outputs": [
    {
     "name": "stdout",
     "output_type": "stream",
     "text": [
      "2216\n"
     ]
    }
   ],
   "source": [
    "s = Solution()\n",
    "print(s.romanToInt(\"MCMXCIV\"))"
   ]
  },
  {
   "cell_type": "markdown",
   "metadata": {},
   "source": [
    "//////////////////////////////////////"
   ]
  },
  {
   "cell_type": "markdown",
   "metadata": {},
   "source": [
    "Разбираем (isinstance, issubclass, getsizeof)"
   ]
  },
  {
   "cell_type": "code",
   "execution_count": 49,
   "metadata": {},
   "outputs": [],
   "source": [
    "class Base:\n",
    "    def __init__(self, health) -> None:\n",
    "        self.health = health\n",
    "    \n",
    "    def go_to(self):\n",
    "        print('go_to')\n",
    "    \n",
    "    def get_damaged(self):\n",
    "        self.health -= 10\n",
    "        print(\"health: \", self.health)\n",
    "    \n",
    "    def restore_health(self):\n",
    "        self.health += 10\n",
    "        print(\"health: \", self.health)\n",
    "    \n",
    "\n",
    "class Wizard(Base): # Волшебник\n",
    "    def __init__(self, health=100) -> None:\n",
    "        super().__init__(health)\n",
    "    \n",
    "    def get_damaged(self):\n",
    "        self.health -= 30\n",
    "        print(\"health: \", self.health)\n",
    "    \n",
    "    def restore_health(self):\n",
    "        self.health += 50\n",
    "        print(\"health: \", self.health)\n",
    "\n",
    "class Paladin(Base): # Паладин\n",
    "    def __init__(self, health=200) -> None:\n",
    "        super().__init__(health)\n",
    "    \n",
    "    def get_damaged(self):\n",
    "        self.health -= 5\n",
    "        print(\"health: \", self.health)\n",
    "    \n",
    "    def restore_health(self):\n",
    "        self.health += 10\n",
    "        print(\"health: \", self.health)"
   ]
  },
  {
   "cell_type": "code",
   "execution_count": 51,
   "metadata": {},
   "outputs": [
    {
     "data": {
      "text/plain": [
       "True"
      ]
     },
     "execution_count": 51,
     "metadata": {},
     "output_type": "execute_result"
    }
   ],
   "source": [
    "# issubclass\n",
    "\n",
    "issubclass(Paladin, Base)"
   ]
  },
  {
   "cell_type": "code",
   "execution_count": 52,
   "metadata": {},
   "outputs": [
    {
     "ename": "TypeError",
     "evalue": "issubclass() arg 1 must be a class",
     "output_type": "error",
     "traceback": [
      "\u001b[1;31m---------------------------------------------------------------------------\u001b[0m",
      "\u001b[1;31mTypeError\u001b[0m                                 Traceback (most recent call last)",
      "Cell \u001b[1;32mIn [52], line 2\u001b[0m\n\u001b[0;32m      1\u001b[0m a \u001b[39m=\u001b[39m Paladin()\n\u001b[1;32m----> 2\u001b[0m \u001b[39missubclass\u001b[39;49m(a, Base)\n",
      "\u001b[1;31mTypeError\u001b[0m: issubclass() arg 1 must be a class"
     ]
    }
   ],
   "source": [
    "a = Paladin()\n",
    "issubclass(a, Base)"
   ]
  },
  {
   "cell_type": "code",
   "execution_count": 53,
   "metadata": {},
   "outputs": [
    {
     "data": {
      "text/plain": [
       "False"
      ]
     },
     "execution_count": 53,
     "metadata": {},
     "output_type": "execute_result"
    }
   ],
   "source": [
    "issubclass(Base, Paladin)"
   ]
  },
  {
   "cell_type": "code",
   "execution_count": 58,
   "metadata": {},
   "outputs": [
    {
     "name": "stdout",
     "output_type": "stream",
     "text": [
      "48\n",
      "1072\n",
      "1072\n"
     ]
    }
   ],
   "source": [
    "# то есть здесь эклемпляр ссылается на класса. Из за этого наш основной класс использует больше памяти, а эклемпляр ссылается\n",
    "b = Wizard()\n",
    "\n",
    "import sys\n",
    "\n",
    "print(sys.getsizeof(b)) # byte\n",
    "print(sys.getsizeof(Wizard)) # byte\n",
    "print(sys.getsizeof(Base)) # byte"
   ]
  },
  {
   "cell_type": "code",
   "execution_count": 62,
   "metadata": {},
   "outputs": [
    {
     "data": {
      "text/plain": [
       "True"
      ]
     },
     "execution_count": 62,
     "metadata": {},
     "output_type": "execute_result"
    }
   ],
   "source": [
    "isinstance(False, bool)"
   ]
  },
  {
   "cell_type": "code",
   "execution_count": 63,
   "metadata": {},
   "outputs": [
    {
     "data": {
      "text/plain": [
       "True"
      ]
     },
     "execution_count": 63,
     "metadata": {},
     "output_type": "execute_result"
    }
   ],
   "source": [
    "isinstance([], list)"
   ]
  },
  {
   "cell_type": "code",
   "execution_count": 64,
   "metadata": {},
   "outputs": [
    {
     "data": {
      "text/plain": [
       "True"
      ]
     },
     "execution_count": 64,
     "metadata": {},
     "output_type": "execute_result"
    }
   ],
   "source": [
    "isinstance('1', str)"
   ]
  },
  {
   "cell_type": "code",
   "execution_count": 66,
   "metadata": {},
   "outputs": [
    {
     "data": {
      "text/plain": [
       "False"
      ]
     },
     "execution_count": 66,
     "metadata": {},
     "output_type": "execute_result"
    }
   ],
   "source": [
    "isinstance(1000.0, int)"
   ]
  },
  {
   "cell_type": "code",
   "execution_count": 67,
   "metadata": {},
   "outputs": [],
   "source": [
    "b = Wizard()"
   ]
  },
  {
   "cell_type": "code",
   "execution_count": 68,
   "metadata": {},
   "outputs": [
    {
     "data": {
      "text/plain": [
       "False"
      ]
     },
     "execution_count": 68,
     "metadata": {},
     "output_type": "execute_result"
    }
   ],
   "source": [
    "isinstance(b, Paladin)"
   ]
  },
  {
   "cell_type": "code",
   "execution_count": 69,
   "metadata": {},
   "outputs": [
    {
     "data": {
      "text/plain": [
       "True"
      ]
     },
     "execution_count": 69,
     "metadata": {},
     "output_type": "execute_result"
    }
   ],
   "source": [
    "isinstance(b, Base) # parent class"
   ]
  },
  {
   "cell_type": "code",
   "execution_count": 70,
   "metadata": {},
   "outputs": [
    {
     "data": {
      "text/plain": [
       "True"
      ]
     },
     "execution_count": 70,
     "metadata": {},
     "output_type": "execute_result"
    }
   ],
   "source": [
    "isinstance(b, Wizard) # this class"
   ]
  }
 ],
 "metadata": {
  "kernelspec": {
   "display_name": "Python 3.10.7 64-bit",
   "language": "python",
   "name": "python3"
  },
  "language_info": {
   "codemirror_mode": {
    "name": "ipython",
    "version": 3
   },
   "file_extension": ".py",
   "mimetype": "text/x-python",
   "name": "python",
   "nbconvert_exporter": "python",
   "pygments_lexer": "ipython3",
   "version": "3.10.7"
  },
  "orig_nbformat": 4,
  "vscode": {
   "interpreter": {
    "hash": "369f2c481f4da34e4445cda3fffd2e751bd1c4d706f27375911949ba6bb62e1c"
   }
  }
 },
 "nbformat": 4,
 "nbformat_minor": 2
}
