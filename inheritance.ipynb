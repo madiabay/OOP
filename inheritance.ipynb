{
 "cells": [
  {
   "cell_type": "markdown",
   "metadata": {},
   "source": [
    "Наследование и перегрузка методов"
   ]
  },
  {
   "cell_type": "code",
   "execution_count": 7,
   "metadata": {},
   "outputs": [],
   "source": [
    "class Base:\n",
    "    def __init__(self, health) -> None:\n",
    "        self.health = health\n",
    "    \n",
    "    def go_to(self):\n",
    "        print('go_to')\n",
    "    \n",
    "    def get_damaged(self):\n",
    "        self.health -= 10\n",
    "        print(\"health: \", self.health)\n",
    "    \n",
    "    def restore_health(self):\n",
    "        self.health += 10\n",
    "        print(\"health: \", self.health)\n",
    "    \n",
    "\n",
    "class Wizard(Base): # Волшебник\n",
    "    def __init__(self, health=100) -> None:\n",
    "        super().__init__(health)\n",
    "    \n",
    "    def get_damaged(self):\n",
    "        self.health -= 30\n",
    "        print(\"health: \", self.health)\n",
    "    \n",
    "    def restore_health(self):\n",
    "        self.health += 50\n",
    "        print(\"health: \", self.health)\n",
    "\n",
    "class Paladin(Base): # Паладин\n",
    "    def __init__(self, health=200) -> None:\n",
    "        super().__init__(health)\n",
    "    \n",
    "    def get_damaged(self):\n",
    "        self.health -= 5\n",
    "        print(\"health: \", self.health)\n",
    "    \n",
    "    def restore_health(self):\n",
    "        self.health += 10\n",
    "        print(\"health: \", self.health)"
   ]
  },
  {
   "cell_type": "code",
   "execution_count": 13,
   "metadata": {},
   "outputs": [],
   "source": [
    "a = Wizard(200)\n",
    "b = Paladin(500)"
   ]
  },
  {
   "cell_type": "code",
   "execution_count": 14,
   "metadata": {},
   "outputs": [
    {
     "name": "stdout",
     "output_type": "stream",
     "text": [
      "go_to\n"
     ]
    }
   ],
   "source": [
    "a.go_to()"
   ]
  },
  {
   "cell_type": "code",
   "execution_count": 15,
   "metadata": {},
   "outputs": [
    {
     "name": "stdout",
     "output_type": "stream",
     "text": [
      "health:  170\n"
     ]
    }
   ],
   "source": [
    "a.get_damaged()"
   ]
  },
  {
   "cell_type": "code",
   "execution_count": 16,
   "metadata": {},
   "outputs": [
    {
     "name": "stdout",
     "output_type": "stream",
     "text": [
      "health:  140\n"
     ]
    }
   ],
   "source": [
    "a.get_damaged()"
   ]
  },
  {
   "cell_type": "code",
   "execution_count": 17,
   "metadata": {},
   "outputs": [
    {
     "name": "stdout",
     "output_type": "stream",
     "text": [
      "health:  190\n"
     ]
    }
   ],
   "source": [
    "a.restore_health()"
   ]
  },
  {
   "cell_type": "code",
   "execution_count": 18,
   "metadata": {},
   "outputs": [
    {
     "name": "stdout",
     "output_type": "stream",
     "text": [
      "go_to\n"
     ]
    }
   ],
   "source": [
    "b.go_to()"
   ]
  },
  {
   "cell_type": "code",
   "execution_count": 19,
   "metadata": {},
   "outputs": [
    {
     "name": "stdout",
     "output_type": "stream",
     "text": [
      "health:  495\n"
     ]
    }
   ],
   "source": [
    "b.get_damaged()"
   ]
  },
  {
   "cell_type": "code",
   "execution_count": 20,
   "metadata": {},
   "outputs": [
    {
     "name": "stdout",
     "output_type": "stream",
     "text": [
      "health:  490\n"
     ]
    }
   ],
   "source": [
    "b.get_damaged()"
   ]
  },
  {
   "cell_type": "code",
   "execution_count": 21,
   "metadata": {},
   "outputs": [
    {
     "name": "stdout",
     "output_type": "stream",
     "text": [
      "health:  500\n"
     ]
    }
   ],
   "source": [
    "b.restore_health()"
   ]
  }
 ],
 "metadata": {
  "kernelspec": {
   "display_name": "Python 3.10.7 64-bit",
   "language": "python",
   "name": "python3"
  },
  "language_info": {
   "codemirror_mode": {
    "name": "ipython",
    "version": 3
   },
   "file_extension": ".py",
   "mimetype": "text/x-python",
   "name": "python",
   "nbconvert_exporter": "python",
   "pygments_lexer": "ipython3",
   "version": "3.10.7"
  },
  "orig_nbformat": 4,
  "vscode": {
   "interpreter": {
    "hash": "369f2c481f4da34e4445cda3fffd2e751bd1c4d706f27375911949ba6bb62e1c"
   }
  }
 },
 "nbformat": 4,
 "nbformat_minor": 2
}
