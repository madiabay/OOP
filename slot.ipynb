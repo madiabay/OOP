{
 "cells": [
  {
   "cell_type": "markdown",
   "metadata": {},
   "source": [
    "Slot это когда наши атрибуты ограничены. То есть если мы добавим внутри слота несколько атрибутов, то класс\n",
    "который мы добавили слот не может создавать или использовать атрибуты которые нету внутри слота.\n",
    "\n",
    "Еще есть такой момент что слот не наследуется. То есть когда мы наследуемся из какого-то класса мы должны определить\n",
    "заново слота.\n",
    "\n",
    "Слот позволяет нам сократить употребление памяти."
   ]
  },
  {
   "cell_type": "code",
   "execution_count": 1,
   "metadata": {},
   "outputs": [],
   "source": [
    "# WITHOUT SLOTS\n",
    "\n",
    "class User:\n",
    "    def __init__(self, name='Madi', age=20) -> None:\n",
    "        self.name = name\n",
    "        self.age = age"
   ]
  },
  {
   "cell_type": "code",
   "execution_count": 3,
   "metadata": {},
   "outputs": [
    {
     "name": "stdout",
     "output_type": "stream",
     "text": [
      "a.name='Madi' a.age=20\n"
     ]
    }
   ],
   "source": [
    "a = User()\n",
    "print(f'{a.name=} {a.age=}')"
   ]
  },
  {
   "cell_type": "code",
   "execution_count": 4,
   "metadata": {},
   "outputs": [
    {
     "data": {
      "text/plain": [
       "1"
      ]
     },
     "execution_count": 4,
     "metadata": {},
     "output_type": "execute_result"
    }
   ],
   "source": [
    "# вот здесь мы создали новый атрибут\n",
    "a.hh = 1\n",
    "a.hh"
   ]
  },
  {
   "cell_type": "code",
   "execution_count": 8,
   "metadata": {},
   "outputs": [],
   "source": [
    "# WITH SLOTS\n",
    "\n",
    "class User2:\n",
    "    __slots__ = ['name', 'age']\n",
    "    def __init__(self, name='Adilet', age=24) -> None:\n",
    "        self.name = name\n",
    "        self.age = age"
   ]
  },
  {
   "cell_type": "code",
   "execution_count": 9,
   "metadata": {},
   "outputs": [
    {
     "name": "stdout",
     "output_type": "stream",
     "text": [
      "b.name='Adilet' b.age=24\n"
     ]
    }
   ],
   "source": [
    "b = User2()\n",
    "print(f'{b.name=} {b.age=}')"
   ]
  },
  {
   "cell_type": "code",
   "execution_count": 11,
   "metadata": {},
   "outputs": [
    {
     "name": "stdout",
     "output_type": "stream",
     "text": [
      "b.name='Kayrat' b.age=24\n"
     ]
    }
   ],
   "source": [
    "b.name = 'Kayrat'\n",
    "print(f'{b.name=} {b.age=}')"
   ]
  },
  {
   "cell_type": "code",
   "execution_count": 10,
   "metadata": {},
   "outputs": [
    {
     "ename": "AttributeError",
     "evalue": "'User2' object has no attribute 'surname'",
     "output_type": "error",
     "traceback": [
      "\u001b[1;31m---------------------------------------------------------------------------\u001b[0m",
      "\u001b[1;31mAttributeError\u001b[0m                            Traceback (most recent call last)",
      "Cell \u001b[1;32mIn [10], line 1\u001b[0m\n\u001b[1;32m----> 1\u001b[0m b\u001b[39m.\u001b[39;49msurname \u001b[39m=\u001b[39m \u001b[39m'\u001b[39m\u001b[39mAbay\u001b[39m\u001b[39m'\u001b[39m\n",
      "\u001b[1;31mAttributeError\u001b[0m: 'User2' object has no attribute 'surname'"
     ]
    }
   ],
   "source": [
    "# вот здесь мы не можем создать или изменить атрибут, так как этот атрибут нету в слоте.\n",
    "b.surname = 'Abay'"
   ]
  },
  {
   "cell_type": "code",
   "execution_count": 12,
   "metadata": {},
   "outputs": [],
   "source": [
    "# WITH SLOTS -> мы здесь просто добавили атрибут hh.\n",
    "# И создали метод чтобы показать что не надо добавлять методы в слот. Она без добавления будет работать.\n",
    "\n",
    "class User3:\n",
    "    __slots__ = ['name', 'age', 'hh']\n",
    "    def __init__(self, name='Adilet', age=24) -> None:\n",
    "        self.name = name\n",
    "        self.age = age\n",
    "    \n",
    "    def get_name(self):\n",
    "        print(self.name)"
   ]
  },
  {
   "cell_type": "code",
   "execution_count": 13,
   "metadata": {},
   "outputs": [
    {
     "name": "stdout",
     "output_type": "stream",
     "text": [
      "c.name='Adilet' c.age=24\n"
     ]
    }
   ],
   "source": [
    "c = User3()\n",
    "print(f'{c.name=} {c.age=}')"
   ]
  },
  {
   "cell_type": "code",
   "execution_count": 14,
   "metadata": {},
   "outputs": [
    {
     "ename": "AttributeError",
     "evalue": "'User3' object has no attribute 'number'",
     "output_type": "error",
     "traceback": [
      "\u001b[1;31m---------------------------------------------------------------------------\u001b[0m",
      "\u001b[1;31mAttributeError\u001b[0m                            Traceback (most recent call last)",
      "Cell \u001b[1;32mIn [14], line 1\u001b[0m\n\u001b[1;32m----> 1\u001b[0m c\u001b[39m.\u001b[39;49mnumber \u001b[39m=\u001b[39m \u001b[39m100\u001b[39m\n",
      "\u001b[1;31mAttributeError\u001b[0m: 'User3' object has no attribute 'number'"
     ]
    }
   ],
   "source": [
    "c.number = 100"
   ]
  },
  {
   "cell_type": "code",
   "execution_count": 15,
   "metadata": {},
   "outputs": [],
   "source": [
    "c.hh = 100"
   ]
  },
  {
   "cell_type": "code",
   "execution_count": 16,
   "metadata": {},
   "outputs": [
    {
     "data": {
      "text/plain": [
       "100"
      ]
     },
     "execution_count": 16,
     "metadata": {},
     "output_type": "execute_result"
    }
   ],
   "source": [
    "c.hh"
   ]
  },
  {
   "cell_type": "code",
   "execution_count": 17,
   "metadata": {},
   "outputs": [
    {
     "name": "stdout",
     "output_type": "stream",
     "text": [
      "Adilet\n"
     ]
    }
   ],
   "source": [
    "c.get_name()"
   ]
  }
 ],
 "metadata": {
  "kernelspec": {
   "display_name": "Python 3.10.7 64-bit",
   "language": "python",
   "name": "python3"
  },
  "language_info": {
   "codemirror_mode": {
    "name": "ipython",
    "version": 3
   },
   "file_extension": ".py",
   "mimetype": "text/x-python",
   "name": "python",
   "nbconvert_exporter": "python",
   "pygments_lexer": "ipython3",
   "version": "3.10.7"
  },
  "orig_nbformat": 4,
  "vscode": {
   "interpreter": {
    "hash": "369f2c481f4da34e4445cda3fffd2e751bd1c4d706f27375911949ba6bb62e1c"
   }
  }
 },
 "nbformat": 4,
 "nbformat_minor": 2
}
