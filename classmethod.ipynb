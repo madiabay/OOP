{
 "cells": [
  {
   "cell_type": "code",
   "execution_count": 43,
   "metadata": {},
   "outputs": [],
   "source": [
    "class User3:\n",
    "    def __init__(self, name, email) -> None:\n",
    "        self.name = name\n",
    "        self.email = email\n",
    "    \n",
    "    def get_info(self):\n",
    "        print(f'{self.name} - {self.email}')\n",
    "    \n",
    "    @classmethod\n",
    "    def get_info_class(cls, data):\n",
    "        name, email = data\n",
    "        return cls(name, email)"
   ]
  },
  {
   "cell_type": "code",
   "execution_count": 37,
   "metadata": {},
   "outputs": [],
   "source": [
    "data_list = ['Madi', 'madi@gmail.com']"
   ]
  },
  {
   "cell_type": "code",
   "execution_count": 39,
   "metadata": {},
   "outputs": [],
   "source": [
    "user = User3('Adilet', 'adilet@gmail.com')"
   ]
  },
  {
   "cell_type": "code",
   "execution_count": 40,
   "metadata": {},
   "outputs": [
    {
     "name": "stdout",
     "output_type": "stream",
     "text": [
      "Adilet - adilet@gmail.com\n"
     ]
    }
   ],
   "source": [
    "user.get_info()"
   ]
  },
  {
   "cell_type": "code",
   "execution_count": 45,
   "metadata": {},
   "outputs": [
    {
     "name": "stdout",
     "output_type": "stream",
     "text": [
      "Madi - madi@gmail.com\n"
     ]
    }
   ],
   "source": [
    "user2 = User3.get_info_class(data_list) # без classmethod, была бы ошибка\n",
    "user2.get_info()"
   ]
  }
 ],
 "metadata": {
  "kernelspec": {
   "display_name": "Python 3.10.7 64-bit",
   "language": "python",
   "name": "python3"
  },
  "language_info": {
   "codemirror_mode": {
    "name": "ipython",
    "version": 3
   },
   "file_extension": ".py",
   "mimetype": "text/x-python",
   "name": "python",
   "nbconvert_exporter": "python",
   "pygments_lexer": "ipython3",
   "version": "3.10.7"
  },
  "orig_nbformat": 4,
  "vscode": {
   "interpreter": {
    "hash": "369f2c481f4da34e4445cda3fffd2e751bd1c4d706f27375911949ba6bb62e1c"
   }
  }
 },
 "nbformat": 4,
 "nbformat_minor": 2
}
