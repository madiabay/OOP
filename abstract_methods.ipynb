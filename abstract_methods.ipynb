{
 "cells": [
  {
   "cell_type": "markdown",
   "metadata": {},
   "source": [
    "Абстрактные методы (ABCMeta, abstractmethod)"
   ]
  },
  {
   "cell_type": "code",
   "execution_count": 1,
   "metadata": {},
   "outputs": [],
   "source": [
    "from abc import ABCMeta, abstractmethod\n",
    "\n",
    "class Users(metaclass=ABCMeta):\n",
    "    @abstractmethod\n",
    "    def go_to(self):\n",
    "        pass\n",
    "\n",
    "    @abstractmethod\n",
    "    def read(self):\n",
    "        pass"
   ]
  },
  {
   "cell_type": "code",
   "execution_count": 2,
   "metadata": {},
   "outputs": [
    {
     "ename": "TypeError",
     "evalue": "Can't instantiate abstract class Users with abstract methods go_to, read",
     "output_type": "error",
     "traceback": [
      "\u001b[1;31m---------------------------------------------------------------------------\u001b[0m",
      "\u001b[1;31mTypeError\u001b[0m                                 Traceback (most recent call last)",
      "Cell \u001b[1;32mIn [2], line 1\u001b[0m\n\u001b[1;32m----> 1\u001b[0m a \u001b[39m=\u001b[39m Users()\n",
      "\u001b[1;31mTypeError\u001b[0m: Can't instantiate abstract class Users with abstract methods go_to, read"
     ]
    }
   ],
   "source": [
    "# абстрактные методы нужны только в качестве интерфейса. То есть их не нужно использовать для создания экземпляра.\n",
    "a = Users()"
   ]
  },
  {
   "cell_type": "code",
   "execution_count": 3,
   "metadata": {},
   "outputs": [],
   "source": [
    "from abc import ABCMeta, abstractmethod\n",
    "\n",
    "class Users(metaclass=ABCMeta):\n",
    "    @abstractmethod\n",
    "    def go_to(self):\n",
    "        pass\n",
    "\n",
    "    @abstractmethod\n",
    "    def read(self):\n",
    "        pass\n",
    "\n",
    "class Test(object):\n",
    "    pass"
   ]
  },
  {
   "cell_type": "code",
   "execution_count": 9,
   "metadata": {},
   "outputs": [],
   "source": [
    "from abc import ABCMeta, abstractmethod\n",
    "\n",
    "class Users2(metaclass=ABCMeta):\n",
    "    @abstractmethod\n",
    "    def go_to(self):\n",
    "        pass\n",
    "\n",
    "    @abstractmethod\n",
    "    def read(self):\n",
    "        pass\n",
    "\n",
    "class Test2(Users2):\n",
    "    pass"
   ]
  },
  {
   "cell_type": "code",
   "execution_count": 10,
   "metadata": {},
   "outputs": [],
   "source": [
    "# если мы наследуемся от обычного класса то можем создать экземпляр класса\n",
    "a = Test()"
   ]
  },
  {
   "cell_type": "code",
   "execution_count": 11,
   "metadata": {},
   "outputs": [
    {
     "ename": "TypeError",
     "evalue": "Can't instantiate abstract class Test2 with abstract methods go_to, read",
     "output_type": "error",
     "traceback": [
      "\u001b[1;31m---------------------------------------------------------------------------\u001b[0m",
      "\u001b[1;31mTypeError\u001b[0m                                 Traceback (most recent call last)",
      "Cell \u001b[1;32mIn [11], line 1\u001b[0m\n\u001b[1;32m----> 1\u001b[0m b \u001b[39m=\u001b[39m Test2()\n",
      "\u001b[1;31mTypeError\u001b[0m: Can't instantiate abstract class Test2 with abstract methods go_to, read"
     ]
    }
   ],
   "source": [
    "# а здесь мы использовали абстрактные методы и говорим что если не объявишь абстрактные методы в дочернем классе, то не будет создан дочерний класс\n",
    "\n",
    "# То есть когда мы наследуем абстрактный класс, мы говорим нашему классу что ему нужно реализовать методы абстрактного класса то есть методы которые сверху есть @abstractmethod. Если не реализует эти методы то тогда не будет создан наш класс\n",
    "b = Test2()"
   ]
  },
  {
   "cell_type": "code",
   "execution_count": 12,
   "metadata": {},
   "outputs": [],
   "source": [
    "from abc import ABCMeta, abstractmethod\n",
    "\n",
    "class Users3(metaclass=ABCMeta):\n",
    "    @abstractmethod\n",
    "    def go_to(self):\n",
    "        pass\n",
    "\n",
    "    @abstractmethod\n",
    "    def read(self):\n",
    "        pass\n",
    "\n",
    "class Test3(Users3):\n",
    "    def go_to(self):\n",
    "        print('read')\n",
    "\n",
    "    def read(self):\n",
    "        print('read')"
   ]
  },
  {
   "cell_type": "code",
   "execution_count": 17,
   "metadata": {},
   "outputs": [],
   "source": [
    "# в итоге наш экземпляр класса создан\n",
    "# то есть мы должны реализовать все абстрактные методы, если не реализуем хоть один абстрактный метод, то наш класс не будет создан\n",
    "a = Test3()"
   ]
  },
  {
   "cell_type": "code",
   "execution_count": 18,
   "metadata": {},
   "outputs": [
    {
     "name": "stdout",
     "output_type": "stream",
     "text": [
      "read\n"
     ]
    }
   ],
   "source": [
    "a.go_to()"
   ]
  },
  {
   "cell_type": "code",
   "execution_count": 19,
   "metadata": {},
   "outputs": [
    {
     "name": "stdout",
     "output_type": "stream",
     "text": [
      "read\n"
     ]
    }
   ],
   "source": [
    "a.read()"
   ]
  }
 ],
 "metadata": {
  "kernelspec": {
   "display_name": "Python 3.10.7 64-bit",
   "language": "python",
   "name": "python3"
  },
  "language_info": {
   "codemirror_mode": {
    "name": "ipython",
    "version": 3
   },
   "file_extension": ".py",
   "mimetype": "text/x-python",
   "name": "python",
   "nbconvert_exporter": "python",
   "pygments_lexer": "ipython3",
   "version": "3.10.7"
  },
  "orig_nbformat": 4,
  "vscode": {
   "interpreter": {
    "hash": "369f2c481f4da34e4445cda3fffd2e751bd1c4d706f27375911949ba6bb62e1c"
   }
  }
 },
 "nbformat": 4,
 "nbformat_minor": 2
}
