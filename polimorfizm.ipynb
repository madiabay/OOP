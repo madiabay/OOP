{
 "cells": [
  {
   "cell_type": "markdown",
   "metadata": {},
   "source": [
    "Полиморфизм - когда один и тотже метод принимает разные типы данных, в зависимости от этого дает разные результаты"
   ]
  },
  {
   "cell_type": "code",
   "execution_count": 1,
   "metadata": {},
   "outputs": [
    {
     "data": {
      "text/plain": [
       "'\\nПолиморфизм в питоне - это возможность, способность изменять функционал унаследованный от базового класса. То есть мы можем перегружать методы и дополнять их своим функционалом либо же полностью переписовать так как нам нужно\\n'"
      ]
     },
     "execution_count": 1,
     "metadata": {},
     "output_type": "execute_result"
    }
   ],
   "source": [
    "\"\"\"\n",
    "Полиморфизм в питоне - это возможность, способность изменять функционал унаследованный от базового класса. То есть мы можем перегружать методы и дополнять их своим функционалом либо же полностью переписовать так как нам нужно\n",
    "\"\"\""
   ]
  },
  {
   "cell_type": "code",
   "execution_count": 2,
   "metadata": {},
   "outputs": [],
   "source": [
    "from functools import singledispatch\n",
    "\n",
    "class User:\n",
    "    @singledispatch\n",
    "    def get_value(value):\n",
    "        print('default:', value)\n",
    "    \n",
    "    @get_value.register(int)\n",
    "    def _(value):\n",
    "        print('int:', value)\n",
    "    \n",
    "    @get_value.register(str)\n",
    "    def _(value):\n",
    "        print('str:', value)"
   ]
  },
  {
   "cell_type": "code",
   "execution_count": 3,
   "metadata": {},
   "outputs": [
    {
     "name": "stdout",
     "output_type": "stream",
     "text": [
      "default: [1, 2, 3]\n"
     ]
    }
   ],
   "source": [
    "User.get_value([1,2,3])"
   ]
  },
  {
   "cell_type": "code",
   "execution_count": 4,
   "metadata": {},
   "outputs": [
    {
     "name": "stdout",
     "output_type": "stream",
     "text": [
      "int: 100\n"
     ]
    }
   ],
   "source": [
    "User.get_value(100)"
   ]
  },
  {
   "cell_type": "code",
   "execution_count": 5,
   "metadata": {},
   "outputs": [
    {
     "name": "stdout",
     "output_type": "stream",
     "text": [
      "int: True\n"
     ]
    }
   ],
   "source": [
    "User.get_value(True) # здесь булеан но True будет как число 1"
   ]
  },
  {
   "cell_type": "code",
   "execution_count": 6,
   "metadata": {},
   "outputs": [
    {
     "name": "stdout",
     "output_type": "stream",
     "text": [
      "int: False\n"
     ]
    }
   ],
   "source": [
    "User.get_value(False) # а здесь как 0"
   ]
  },
  {
   "cell_type": "code",
   "execution_count": 7,
   "metadata": {},
   "outputs": [
    {
     "name": "stdout",
     "output_type": "stream",
     "text": [
      "str: Madi\n"
     ]
    }
   ],
   "source": [
    "User.get_value('Madi')"
   ]
  },
  {
   "cell_type": "code",
   "execution_count": 8,
   "metadata": {},
   "outputs": [
    {
     "name": "stdout",
     "output_type": "stream",
     "text": [
      "default: {'key': 'value'}\n"
     ]
    }
   ],
   "source": [
    "User.get_value({'key': 'value'})"
   ]
  }
 ],
 "metadata": {
  "kernelspec": {
   "display_name": "Python 3.10.7 64-bit",
   "language": "python",
   "name": "python3"
  },
  "language_info": {
   "codemirror_mode": {
    "name": "ipython",
    "version": 3
   },
   "file_extension": ".py",
   "mimetype": "text/x-python",
   "name": "python",
   "nbconvert_exporter": "python",
   "pygments_lexer": "ipython3",
   "version": "3.10.7"
  },
  "orig_nbformat": 4,
  "vscode": {
   "interpreter": {
    "hash": "369f2c481f4da34e4445cda3fffd2e751bd1c4d706f27375911949ba6bb62e1c"
   }
  }
 },
 "nbformat": 4,
 "nbformat_minor": 2
}
