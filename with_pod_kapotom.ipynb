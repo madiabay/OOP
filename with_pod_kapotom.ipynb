{
 "cells": [
  {
   "cell_type": "markdown",
   "metadata": {},
   "source": [
    "Контекстные менеджеры позволяют задать поведение при работе с конструкцией with: при входе и выходе из блока. Это упрощает работу с ресурсами в части их захвата и освобождения; транзакциями, когда нужно либо полностью закончить транзакцию, либо откатить ее целиком.\n",
    "\n",
    "Мәтінмәндік менеджерлер құрылыммен жұмыс істеу кезінде әрекетті орнатуға мүмкіндік береді: блокқа кіру және шығу кезінде. Бұл ресурстармен жұмысты оларды түсіру және босату тұрғысынан жеңілдетеді; транзакцияны толығымен аяқтау немесе оны толығымен кері айналдыру қажет болғанда."
   ]
  },
  {
   "cell_type": "code",
   "execution_count": 1,
   "metadata": {},
   "outputs": [],
   "source": [
    "# Контекстный менеджер(with) в классе используя (enter, exit)\n",
    "\n",
    "class User:\n",
    "    def __init__(self, filename, flag):\n",
    "        self.file = open(filename, flag)\n",
    "\n",
    "    def __enter__(self):\n",
    "        print('__enter__')\n",
    "        return self.file\n",
    "\n",
    "    def __exit__(self, exc_type, exc_val, exc_tb):\n",
    "        print('__exit__')\n",
    "        self.file.close() "
   ]
  },
  {
   "cell_type": "code",
   "execution_count": 2,
   "metadata": {},
   "outputs": [
    {
     "name": "stdout",
     "output_type": "stream",
     "text": [
      "__enter__\n",
      "работает\n",
      "__exit__\n"
     ]
    }
   ],
   "source": [
    "with User('test_with.txt', 'w') as file:\n",
    "    print('работает')"
   ]
  }
 ],
 "metadata": {
  "kernelspec": {
   "display_name": "Python 3.10.7 64-bit",
   "language": "python",
   "name": "python3"
  },
  "language_info": {
   "codemirror_mode": {
    "name": "ipython",
    "version": 3
   },
   "file_extension": ".py",
   "mimetype": "text/x-python",
   "name": "python",
   "nbconvert_exporter": "python",
   "pygments_lexer": "ipython3",
   "version": "3.10.7"
  },
  "orig_nbformat": 4,
  "vscode": {
   "interpreter": {
    "hash": "369f2c481f4da34e4445cda3fffd2e751bd1c4d706f27375911949ba6bb62e1c"
   }
  }
 },
 "nbformat": 4,
 "nbformat_minor": 2
}
